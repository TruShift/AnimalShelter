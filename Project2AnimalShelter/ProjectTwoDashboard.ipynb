{
  "metadata": {
    "kernelspec": {
      "name": "python",
      "display_name": "Python (Pyodide)",
      "language": "python"
    },
    "language_info": {
      "codemirror_mode": {
        "name": "ipython",
        "version": 3
      },
      "file_extension": ".py",
      "mimetype": "text/x-python",
      "name": "python",
      "nbconvert_exporter": "python",
      "pygments_lexer": "ipython3",
      "version": "3.9.12"
    }
  },
  "nbformat_minor": 5,
  "nbformat": 4,
  "cells": [
    {
      "id": "3ed24c36",
      "cell_type": "code",
      "source": "# Setup the Jupyter version of Dash\nfrom jupyter_dash import JupyterDash\n\n# Configure the necessary Python module imports for dashboard components\nimport dash_leaflet as dl\nimport re\nfrom dash import dcc\nfrom dash import html\nimport plotly.express as px\nfrom dash import dash_table\nfrom dash.dependencies import Input, Output, State\nimport base64\n\n# Configure OS routines\nimport os\n\n# Configure the plotting routines\nimport numpy as np\nimport pandas as pd\nimport matplotlib.pyplot as plt\n\n# change animal_shelter and AnimalShelter to match your CRUD Python module file name and class name\nfrom animal_shelter import AnimalShelter\nanimal_shelter = AnimalShelter()\n\n###########################\n# Data Manipulation / Model\n###########################\n\nusername = \"aacuser\"\npassword = \"SNHU123\"\nshelter = AnimalShelter()\n\ndf = pd.DataFrame.from_records(shelter.read({}))\n\ndf.drop(columns=['_id'], inplace=True, errors='ignore')\n\n#########################\n# Dashboard Layout / View\n#########################\napp = JupyterDash(__name__)\n\n# Load Logo\nimage_filename = 'Grazioso Salvare Logo.png'\nencoded_image = base64.b64encode(open(image_filename, 'rb').read())\n\napp.layout = html.Div([\n    html.Center([\n        html.Img(src=f\"data:image/png;base64,{encoded_image.decode()}\", style={'width': '200px'}),\n        html.H3(\"Dashboard by Greyson - 02/22/25\")  # Unique Identifier\n    ]),\n\n    html.Center(html.B(html.H1(\"CS-340 Dashboard\"))),\n    html.Hr(),\n\n    html.Center(html.Div([\n        html.Label('Select Rescue Type:'),\n        dcc.Dropdown(\n            id='dropdown',\n            options=[\n                {'label': 'Water Rescue', 'value': 'water'},\n                {'label': 'Mountain Rescue', 'value': 'mountain'},\n                {'label': 'Disaster Rescue/Individual Tracking', 'value': 'disaster'}\n            ],\n            placeholder=\"Select a rescue type\"\n        )\n    ], style={'width': '50%'})),\n\n    html.Br(),\n\n    html.Div([\n        dcc.Input(\n            id='global-search',\n            type='text',\n            placeholder='Search all columns...',\n            debounce=True,\n            style={'width': '100%', 'padding': '10px', 'fontSize': '16px'}\n        )\n    ]),\n\n    html.Br(),\n\n    dash_table.DataTable(\n        id='datatable-id',\n        columns=[\n            {\"name\": i, \"id\": i} for i in [\"name\", \"breed\", \"animal_type\", \"sex_upon_outcome\", \"age_upon_outcome_in_weeks\"]\n        ],\n        style_table={'overflowX': 'auto'},\n        style_cell={\n            'height': 'auto',\n            'minWidth': '0px', 'maxWidth': '180px',\n            'whiteSpace': 'normal',\n            'textAlign': 'left'\n        },\n        filter_action=\"native\",  # Optional: Keep if you want per-column filters too\n        page_action=\"native\",\n        page_current=0,\n        page_size=10\n    )\n]),\n\n    html.Br(),\n    html.Hr(),\n\n    html.Div(className='row',\n             style={'display': 'flex'},\n             children=[\n                 html.Div(id='graph-id', className='col s12 m6'),\n                 html.Div(id='map-id', className='col s12 m6')\n             ])\n])\n\n#############################################\n# Interaction Between Components / Controller\n#############################################\n\n@app.callback(\n    Output('datatable-id', 'data'),\n    [Input('dropdown', 'value')]\n)\ndef update_dashboard(filter_type):\n    df = pd.DataFrame.from_records(shelter.read({}))  # Get data\n    \n    # Convert columns to appropriate formats\n    df[\"age_upon_outcome_in_weeks\"] = pd.to_numeric(df[\"age_upon_outcome_in_weeks\"], errors='coerce')\n    df[\"breed\"] = df[\"breed\"].str.lower()  # Ensure case-insensitive matching\n\n    # Convert any datetime columns to strings\n    if 'datetime' in df.columns:\n        df['datetime'] = df['datetime'].astype(str)\n\n    # Drop the _id column if it's present\n    df.drop(columns=['_id'], inplace=True, errors='ignore')\n\n    # Apply filter based on dropdown selection\n    if filter_type == 'water':\n        query = df[(df[\"breed\"].isin([\"labrador retriever mix\", \"chesapeake bay retriever\", \"newfoundland\"])) & \n                   (df[\"sex_upon_outcome\"] == \"Intact Female\") & \n                   (df[\"age_upon_outcome_in_weeks\"].between(26, 156))]\n    elif filter_type == 'mountain':\n        query = df[(df[\"breed\"].isin([\"german shepherd\", \"alaskan malamute\", \"old english sheepdog\", \"siberian husky\", \"rottweiler\"])) & \n                   (df[\"sex_upon_outcome\"] == \"Intact Male\") & \n                   (df[\"age_upon_outcome_in_weeks\"].between(26, 156))]\n    elif filter_type == 'disaster':\n        query = df[(df[\"breed\"].isin([\"doberman pinscher\", \"german shepherd\", \"golden retriever\", \"bloodhound\", \"rottweiler\"])) & \n                   (df[\"sex_upon_outcome\"] == \"Intact Male\") & \n                   (df[\"age_upon_outcome_in_weeks\"].between(20, 300))]\n    else:\n        query = df\n\n    # Handle empty query\n    if query.empty:\n        return []\n\n    return query.to_dict('records')\n\n\n@app.callback(\n    Output('graph-id', \"children\"),\n    [Input('datatable-id', \"derived_virtual_data\")]\n)\ndef update_graphs(viewData):\n    if viewData is None:\n        return []\n    dff = pd.DataFrame(viewData)\n    return [\n        dcc.Graph(\n            figure=px.pie(dff, names='breed', title='Preferred Animals')\n        )\n    ]\n\n@app.callback(\n    Output('datatable-id', 'style_data_conditional'),\n    [Input('datatable-id', 'selected_columns')]\n)\ndef update_styles(selected_columns):\n    return [{\n        'if': {'column_id': i},\n        'backgroundColor': '#D2F3FF'\n    } for i in selected_columns]\n\n@app.callback(\n    Output('map-id', \"children\"),\n    [Input('datatable-id', \"derived_virtual_data\"),\n     Input('datatable-id', \"derived_virtual_selected_rows\")]\n)\ndef update_map(viewData, index):\n    if viewData is None or index is None:\n        return []\n\n    dff = pd.DataFrame.from_dict(viewData)\n    row = index[0] if index else 0\n\n    return [\n        dl.Map(style={'width': '1000px', 'height': '500px'}, center=[30.75, -97.48], zoom=10, children=[\n            dl.TileLayer(id=\"base-layer-id\"),\n            dl.Marker(position=[dff.iloc[row, 13], dff.iloc[row, 14]], children=[\n                dl.Tooltip(dff.iloc[row, 4]),\n                dl.Popup([\n                    html.H1(\"Animal Name\"),\n                    html.P(dff.iloc[row, 9])\n                ])\n            ])\n        ])\n    ]\n\napp.run_server(debug=True)\n",
      "metadata": {
        "trusted": true
      },
      "outputs": [],
      "execution_count": null
    },
    {
      "id": "601e10b2",
      "cell_type": "code",
      "source": "dash_table.DataTable(\n    id='datatable-id',\n    columns=[{\"name\": i, \"id\": i, \"deletable\": False, \"selectable\": True} for i in df.columns],\n    data=df.to_dict('records')\n)",
      "metadata": {
        "trusted": true
      },
      "outputs": [],
      "execution_count": null
    },
    {
      "id": "7138f24b",
      "cell_type": "code",
      "source": "df.iloc[0]",
      "metadata": {
        "trusted": true
      },
      "outputs": [],
      "execution_count": null
    },
    {
      "id": "39d27f27",
      "cell_type": "code",
      "source": "    dash_table.DataTable(\n        id='datatable-id',\n        columns=[\n            {\"name\": \"Animal Name\", \"id\": \"name\", \"deletable\": False, \"selectable\": True},\n            {\"name\": \"Animal ID\", \"id\": \"animal_id\", \"deletable\": False, \"selectable\": True},\n            {\"name\": \"Animal Age\", \"id\": \"age_upon_outcome\", \"deletable\": False, \"selectable\": True},\n            {\"name\": \"Most Recent Event\", \"id\": \"outcome_type\", \"deletable\": False, \"selectable\": True}\n        ]",
      "metadata": {
        "trusted": true
      },
      "outputs": [],
      "execution_count": null
    },
    {
      "id": "46fc58b9-57bc-4b73-9636-68cc5753f128",
      "cell_type": "code",
      "source": "",
      "metadata": {
        "trusted": true
      },
      "outputs": [],
      "execution_count": null
    },
    {
      "id": "709b99f1-6510-45a7-a075-d48a52e0cb21",
      "cell_type": "code",
      "source": "",
      "metadata": {
        "trusted": true
      },
      "outputs": [],
      "execution_count": null
    }
  ]
}